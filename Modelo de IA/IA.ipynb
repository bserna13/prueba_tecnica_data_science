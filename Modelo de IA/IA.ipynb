{
 "cells": [
  {
   "cell_type": "code",
   "execution_count": 127,
   "id": "9e7f47b0-1154-4b98-9965-7fb8018879f9",
   "metadata": {},
   "outputs": [],
   "source": [
    "import pandas as pd\n",
    "import re\n",
    "import seaborn as sns\n",
    "import matplotlib.pyplot as plt\n",
    "import numpy as np\n",
    "\n",
    "from nltk.corpus import stopwords\n",
    "from nltk.tokenize import word_tokenize\n",
    "import nltk\n",
    "\n",
    "from transformers import pipeline\n",
    "from collections import Counter\n",
    "\n",
    "from sklearn.feature_extraction.text import TfidfVectorizer\n",
    "from sklearn.decomposition import NMF\n"
   ]
  },
  {
   "cell_type": "code",
   "execution_count": 5,
   "id": "d0d223e4-a9b2-40f5-8565-530779ceff30",
   "metadata": {},
   "outputs": [],
   "source": [
    "# Leer el archivo .parquet\n",
    "df = pd.read_parquet('IA.parquet')"
   ]
  },
  {
   "cell_type": "code",
   "execution_count": 6,
   "id": "0c0751fe-5c5f-437c-8f1a-1ef3425daa8f",
   "metadata": {},
   "outputs": [
    {
     "data": {
      "text/html": [
       "<div>\n",
       "<style scoped>\n",
       "    .dataframe tbody tr th:only-of-type {\n",
       "        vertical-align: middle;\n",
       "    }\n",
       "\n",
       "    .dataframe tbody tr th {\n",
       "        vertical-align: top;\n",
       "    }\n",
       "\n",
       "    .dataframe thead th {\n",
       "        text-align: right;\n",
       "    }\n",
       "</style>\n",
       "<table border=\"1\" class=\"dataframe\">\n",
       "  <thead>\n",
       "    <tr style=\"text-align: right;\">\n",
       "      <th></th>\n",
       "      <th>store</th>\n",
       "      <th>assigned_at</th>\n",
       "      <th>answer</th>\n",
       "    </tr>\n",
       "  </thead>\n",
       "  <tbody>\n",
       "    <tr>\n",
       "      <th>0</th>\n",
       "      <td>FN60</td>\n",
       "      <td>2023-02-20 12:25:30.652022</td>\n",
       "      <td>Todo lo hacen perfecto,, gracias por su atención</td>\n",
       "    </tr>\n",
       "    <tr>\n",
       "      <th>1</th>\n",
       "      <td>FN54</td>\n",
       "      <td>2023-02-20 17:10:31.230531</td>\n",
       "      <td>Ya no ay probadores</td>\n",
       "    </tr>\n",
       "    <tr>\n",
       "      <th>2</th>\n",
       "      <td>T060</td>\n",
       "      <td>2023-02-21 18:55:32.949118</td>\n",
       "      <td>Excelente servicio</td>\n",
       "    </tr>\n",
       "    <tr>\n",
       "      <th>3</th>\n",
       "      <td>FN88</td>\n",
       "      <td>2023-02-24 16:25:54.015137</td>\n",
       "      <td>Buen servicio</td>\n",
       "    </tr>\n",
       "    <tr>\n",
       "      <th>4</th>\n",
       "      <td>T036</td>\n",
       "      <td>2023-02-21 19:25:33.154527</td>\n",
       "      <td>EL personal disperso y eso que estaba solo el ...</td>\n",
       "    </tr>\n",
       "  </tbody>\n",
       "</table>\n",
       "</div>"
      ],
      "text/plain": [
       "  store                assigned_at  \\\n",
       "0  FN60 2023-02-20 12:25:30.652022   \n",
       "1  FN54 2023-02-20 17:10:31.230531   \n",
       "2  T060 2023-02-21 18:55:32.949118   \n",
       "3  FN88 2023-02-24 16:25:54.015137   \n",
       "4  T036 2023-02-21 19:25:33.154527   \n",
       "\n",
       "                                              answer  \n",
       "0  Todo lo hacen perfecto,, gracias por su atención   \n",
       "1                                Ya no ay probadores  \n",
       "2                                Excelente servicio   \n",
       "3                                     Buen servicio   \n",
       "4  EL personal disperso y eso que estaba solo el ...  "
      ]
     },
     "execution_count": 6,
     "metadata": {},
     "output_type": "execute_result"
    }
   ],
   "source": [
    "df.head()"
   ]
  },
  {
   "cell_type": "code",
   "execution_count": 7,
   "id": "ba01a3b7-c25a-4048-9789-6d1a4b391b47",
   "metadata": {},
   "outputs": [
    {
     "data": {
      "text/plain": [
       "store            65\n",
       "assigned_at    7519\n",
       "answer         7368\n",
       "dtype: int64"
      ]
     },
     "execution_count": 7,
     "metadata": {},
     "output_type": "execute_result"
    }
   ],
   "source": [
    "df.nunique()"
   ]
  },
  {
   "cell_type": "code",
   "execution_count": 8,
   "id": "d2e7588e-5a03-4c42-8cb1-f00cc857fff7",
   "metadata": {},
   "outputs": [
    {
     "name": "stdout",
     "output_type": "stream",
     "text": [
      "Ya no ay probadores\n",
      "La ropa es exelente \n",
      "El producto excelente la atención muy mala. Los asesores parecen maniqui  no motivan al cliente \n",
      "Son excelente felicitaciones \n",
      "Exelente producto y servicio \n",
      "Tengo una inquietud\n",
      "A mi hijo le compré un ganan muy lindo lo uso una par de veces pero ya le quedó pequeño habrá la posibilidad de entregarlo como parte de pago para adquirir una prenda que se ajuste a su talla.\n",
      "buena opción y precio\n",
      "Todo excelente \n",
      "Me parecen excelentes las ofertas y la atención muy buena\n",
      "La ropa es exelente \n",
      "Mas descuentos.$\n"
     ]
    }
   ],
   "source": [
    "# Algunos comentarios\n",
    "for i in [1,24,6456,235,257,555,799,152,53,24,633]:\n",
    "    print(df[\"answer\"][i])"
   ]
  },
  {
   "cell_type": "code",
   "execution_count": 9,
   "id": "5d2d3214-a23c-4828-8fe0-16bc0d8f725e",
   "metadata": {},
   "outputs": [],
   "source": [
    "# Preprocesamiento de texto\n",
    "def limpiar_texto(texto):\n",
    "    try:\n",
    "        texto = texto.lower()  # Convertir a minúsculas\n",
    "        texto = re.sub(r'\\d+', '', texto)  # Eliminar números\n",
    "        texto = re.sub(r'[^\\w\\s]', '', texto)  # Eliminar signos de puntuación\n",
    "        texto = re.sub(r'\\s+', ' ', texto)  # Eliminar espacios adicionales\n",
    "        return texto\n",
    "    except:\n",
    "        return \"\""
   ]
  },
  {
   "cell_type": "code",
   "execution_count": 10,
   "id": "caf7619f-132a-457e-bcfa-e2d2ec13c2b5",
   "metadata": {},
   "outputs": [],
   "source": [
    "df[\"answer_clean\"] = df[\"answer\"].apply(limpiar_texto)"
   ]
  },
  {
   "cell_type": "code",
   "execution_count": 11,
   "id": "efef5179-ee66-430f-94ac-e8200dd9e189",
   "metadata": {},
   "outputs": [
    {
     "name": "stderr",
     "output_type": "stream",
     "text": [
      "[nltk_data] Downloading package punkt to\n",
      "[nltk_data]     C:\\Users\\Brahi\\AppData\\Roaming\\nltk_data...\n",
      "[nltk_data]   Package punkt is already up-to-date!\n",
      "[nltk_data] Downloading package stopwords to\n",
      "[nltk_data]     C:\\Users\\Brahi\\AppData\\Roaming\\nltk_data...\n",
      "[nltk_data]   Package stopwords is already up-to-date!\n"
     ]
    },
    {
     "data": {
      "text/plain": [
       "True"
      ]
     },
     "execution_count": 11,
     "metadata": {},
     "output_type": "execute_result"
    }
   ],
   "source": [
    "nltk.download('punkt')\n",
    "nltk.download('stopwords')"
   ]
  },
  {
   "cell_type": "code",
   "execution_count": 12,
   "id": "cd4aefde-22ca-452e-9c0a-63fddb247c95",
   "metadata": {},
   "outputs": [],
   "source": [
    "stop_words = set(stopwords.words('spanish'))"
   ]
  },
  {
   "cell_type": "code",
   "execution_count": 13,
   "id": "10fe66c6-26bc-40e7-a79f-a5d2ff54d7ce",
   "metadata": {},
   "outputs": [],
   "source": [
    "# Tokenización y eliminación de stopwords\n",
    "def tokenizar(texto):\n",
    "    tokens = word_tokenize(texto)\n",
    "    tokens_limpios = [word for word in tokens if word not in stop_words]\n",
    "    return ' '.join(tokens_limpios)\n",
    "\n",
    "df['answer_tokenizado'] = df['answer_clean'].apply(tokenizar)"
   ]
  },
  {
   "cell_type": "code",
   "execution_count": 14,
   "id": "583b13eb-aa96-4b99-bb6b-617836989651",
   "metadata": {},
   "outputs": [
    {
     "data": {
      "text/html": [
       "<div>\n",
       "<style scoped>\n",
       "    .dataframe tbody tr th:only-of-type {\n",
       "        vertical-align: middle;\n",
       "    }\n",
       "\n",
       "    .dataframe tbody tr th {\n",
       "        vertical-align: top;\n",
       "    }\n",
       "\n",
       "    .dataframe thead th {\n",
       "        text-align: right;\n",
       "    }\n",
       "</style>\n",
       "<table border=\"1\" class=\"dataframe\">\n",
       "  <thead>\n",
       "    <tr style=\"text-align: right;\">\n",
       "      <th></th>\n",
       "      <th>store</th>\n",
       "      <th>assigned_at</th>\n",
       "      <th>answer</th>\n",
       "      <th>answer_clean</th>\n",
       "      <th>answer_tokenizado</th>\n",
       "    </tr>\n",
       "  </thead>\n",
       "  <tbody>\n",
       "    <tr>\n",
       "      <th>0</th>\n",
       "      <td>FN60</td>\n",
       "      <td>2023-02-20 12:25:30.652022</td>\n",
       "      <td>Todo lo hacen perfecto,, gracias por su atención</td>\n",
       "      <td>todo lo hacen perfecto gracias por su atención</td>\n",
       "      <td>hacen perfecto gracias atención</td>\n",
       "    </tr>\n",
       "    <tr>\n",
       "      <th>1</th>\n",
       "      <td>FN54</td>\n",
       "      <td>2023-02-20 17:10:31.230531</td>\n",
       "      <td>Ya no ay probadores</td>\n",
       "      <td>ya no ay probadores</td>\n",
       "      <td>ay probadores</td>\n",
       "    </tr>\n",
       "    <tr>\n",
       "      <th>2</th>\n",
       "      <td>T060</td>\n",
       "      <td>2023-02-21 18:55:32.949118</td>\n",
       "      <td>Excelente servicio</td>\n",
       "      <td>excelente servicio</td>\n",
       "      <td>excelente servicio</td>\n",
       "    </tr>\n",
       "  </tbody>\n",
       "</table>\n",
       "</div>"
      ],
      "text/plain": [
       "  store                assigned_at  \\\n",
       "0  FN60 2023-02-20 12:25:30.652022   \n",
       "1  FN54 2023-02-20 17:10:31.230531   \n",
       "2  T060 2023-02-21 18:55:32.949118   \n",
       "\n",
       "                                              answer  \\\n",
       "0  Todo lo hacen perfecto,, gracias por su atención    \n",
       "1                                Ya no ay probadores   \n",
       "2                                Excelente servicio    \n",
       "\n",
       "                                      answer_clean  \\\n",
       "0  todo lo hacen perfecto gracias por su atención    \n",
       "1                              ya no ay probadores   \n",
       "2                              excelente servicio    \n",
       "\n",
       "                 answer_tokenizado  \n",
       "0  hacen perfecto gracias atención  \n",
       "1                    ay probadores  \n",
       "2               excelente servicio  "
      ]
     },
     "execution_count": 14,
     "metadata": {},
     "output_type": "execute_result"
    }
   ],
   "source": [
    "df.head(3)"
   ]
  },
  {
   "cell_type": "markdown",
   "id": "79a190a9-1965-4500-8fba-9dbd4853530d",
   "metadata": {},
   "source": [
    "Una vez ya procesado los comentarios o respuestas de los clientes, utilizaremos un modelo preentrenado para el analisis de sentimiento de Hugging Face."
   ]
  },
  {
   "cell_type": "code",
   "execution_count": 16,
   "id": "19ced40c-fc8c-467f-b36c-b69bbeed23a2",
   "metadata": {},
   "outputs": [
    {
     "name": "stdout",
     "output_type": "stream",
     "text": [
      "WARNING:tensorflow:From c:\\Users\\Brahi\\Documents\\GitHub\\prueba_tecnica_data_science\\Modelo de IA\\entorno_IA\\Lib\\site-packages\\tf_keras\\src\\losses.py:2976: The name tf.losses.sparse_softmax_cross_entropy is deprecated. Please use tf.compat.v1.losses.sparse_softmax_cross_entropy instead.\n",
      "\n"
     ]
    },
    {
     "name": "stderr",
     "output_type": "stream",
     "text": [
      "c:\\Users\\Brahi\\Documents\\GitHub\\prueba_tecnica_data_science\\Modelo de IA\\entorno_IA\\Lib\\site-packages\\huggingface_hub\\file_download.py:157: UserWarning: `huggingface_hub` cache-system uses symlinks by default to efficiently store duplicated files but your machine does not support them in C:\\Users\\Brahi\\.cache\\huggingface\\hub\\models--nlptown--bert-base-multilingual-uncased-sentiment. Caching files will still work but in a degraded version that might require more space on your disk. This warning can be disabled by setting the `HF_HUB_DISABLE_SYMLINKS_WARNING` environment variable. For more details, see https://huggingface.co/docs/huggingface_hub/how-to-cache#limitations.\n",
      "To support symlinks on Windows, you either need to activate Developer Mode or to run Python as an administrator. In order to see activate developer mode, see this article: https://docs.microsoft.com/en-us/windows/apps/get-started/enable-your-device-for-development\n",
      "  warnings.warn(message)\n"
     ]
    }
   ],
   "source": [
    "# Cargar el modelo de análisis de sentimientos en español\n",
    "sentiment_analysis = pipeline('sentiment-analysis', model='nlptown/bert-base-multilingual-uncased-sentiment')"
   ]
  },
  {
   "cell_type": "code",
   "execution_count": 18,
   "id": "1983b141-8965-4622-bd10-ec30e0417c5c",
   "metadata": {},
   "outputs": [],
   "source": [
    "# Analizar sentimientos\n",
    "df['sentimiento'] = df['answer_tokenizado'].apply(lambda x: sentiment_analysis(x)[0]['label'])"
   ]
  },
  {
   "cell_type": "code",
   "execution_count": 20,
   "id": "a52b67ee-665c-4125-813d-97bd924b8190",
   "metadata": {},
   "outputs": [],
   "source": [
    "# df.to_csv('IA_sentimientos.csv', index=False)\n",
    "# df = pd.read_csv('IA_sentimientos.csv')"
   ]
  },
  {
   "cell_type": "code",
   "execution_count": 40,
   "id": "adc53ebf-da92-4c05-bee9-ddb363743446",
   "metadata": {},
   "outputs": [
    {
     "name": "stdout",
     "output_type": "stream",
     "text": [
      "Por ejemplo este cliente tuvo el siguiente comentario:\n",
      "personal disperso solo almacen pasan grupitos conversando almacen sola salida chequeen bolsa factura humillante dos veces comprar mismo día\n",
      "por lo que el sentimiento asociado fue: 1 star\n"
     ]
    },
    {
     "name": "stderr",
     "output_type": "stream",
     "text": [
      "C:\\Users\\Brahi\\AppData\\Local\\Temp\\ipykernel_1220\\3022856167.py:2: FutureWarning: Series.__getitem__ treating keys as positions is deprecated. In a future version, integer keys will always be treated as labels (consistent with DataFrame behavior). To access a value by position, use `ser.iloc[pos]`\n",
      "  str(df[[\"answer_tokenizado\",\"sentimiento\"]].iloc[4][0])+\n"
     ]
    }
   ],
   "source": [
    "print(\"Por ejemplo este cliente tuvo el siguiente comentario:\\n\"+\n",
    "      str(df[[\"answer_tokenizado\",\"sentimiento\"]].iloc[4][0])+\n",
    "      \"\\npor lo que el sentimiento asociado fue: \"+ str(df.iloc[4,5])\n",
    "      )"
   ]
  },
  {
   "cell_type": "markdown",
   "id": "118a8028",
   "metadata": {},
   "source": [
    "En general el modelo pareciera tener una muy buena precision"
   ]
  },
  {
   "cell_type": "code",
   "execution_count": 42,
   "id": "0c0dadd0-e488-4df6-a9fe-593e7cf48d4c",
   "metadata": {},
   "outputs": [
    {
     "data": {
      "text/html": [
       "<div>\n",
       "<style scoped>\n",
       "    .dataframe tbody tr th:only-of-type {\n",
       "        vertical-align: middle;\n",
       "    }\n",
       "\n",
       "    .dataframe tbody tr th {\n",
       "        vertical-align: top;\n",
       "    }\n",
       "\n",
       "    .dataframe thead th {\n",
       "        text-align: right;\n",
       "    }\n",
       "</style>\n",
       "<table border=\"1\" class=\"dataframe\">\n",
       "  <thead>\n",
       "    <tr style=\"text-align: right;\">\n",
       "      <th></th>\n",
       "      <th>answer_tokenizado</th>\n",
       "      <th>sentimiento</th>\n",
       "    </tr>\n",
       "  </thead>\n",
       "  <tbody>\n",
       "    <tr>\n",
       "      <th>0</th>\n",
       "      <td>hacen perfecto gracias atención</td>\n",
       "      <td>5 stars</td>\n",
       "    </tr>\n",
       "    <tr>\n",
       "      <th>1</th>\n",
       "      <td>ay probadores</td>\n",
       "      <td>5 stars</td>\n",
       "    </tr>\n",
       "    <tr>\n",
       "      <th>2</th>\n",
       "      <td>excelente servicio</td>\n",
       "      <td>5 stars</td>\n",
       "    </tr>\n",
       "    <tr>\n",
       "      <th>3</th>\n",
       "      <td>buen servicio</td>\n",
       "      <td>5 stars</td>\n",
       "    </tr>\n",
       "    <tr>\n",
       "      <th>4</th>\n",
       "      <td>personal disperso solo almacen pasan grupitos ...</td>\n",
       "      <td>1 star</td>\n",
       "    </tr>\n",
       "    <tr>\n",
       "      <th>...</th>\n",
       "      <td>...</td>\n",
       "      <td>...</td>\n",
       "    </tr>\n",
       "    <tr>\n",
       "      <th>9365</th>\n",
       "      <td>continúen calidad actual diseños prendas cool</td>\n",
       "      <td>5 stars</td>\n",
       "    </tr>\n",
       "    <tr>\n",
       "      <th>9366</th>\n",
       "      <td>lindo innovador</td>\n",
       "      <td>5 stars</td>\n",
       "    </tr>\n",
       "    <tr>\n",
       "      <th>9367</th>\n",
       "      <td>mala atencion personal</td>\n",
       "      <td>1 star</td>\n",
       "    </tr>\n",
       "    <tr>\n",
       "      <th>9368</th>\n",
       "      <td>gracias</td>\n",
       "      <td>5 stars</td>\n",
       "    </tr>\n",
       "    <tr>\n",
       "      <th>9369</th>\n",
       "      <td>compro prendas gusta ir comprar hijo encontrar...</td>\n",
       "      <td>5 stars</td>\n",
       "    </tr>\n",
       "  </tbody>\n",
       "</table>\n",
       "<p>9370 rows × 2 columns</p>\n",
       "</div>"
      ],
      "text/plain": [
       "                                      answer_tokenizado sentimiento\n",
       "0                       hacen perfecto gracias atención     5 stars\n",
       "1                                         ay probadores     5 stars\n",
       "2                                    excelente servicio     5 stars\n",
       "3                                         buen servicio     5 stars\n",
       "4     personal disperso solo almacen pasan grupitos ...      1 star\n",
       "...                                                 ...         ...\n",
       "9365      continúen calidad actual diseños prendas cool     5 stars\n",
       "9366                                    lindo innovador     5 stars\n",
       "9367                             mala atencion personal      1 star\n",
       "9368                                            gracias     5 stars\n",
       "9369  compro prendas gusta ir comprar hijo encontrar...     5 stars\n",
       "\n",
       "[9370 rows x 2 columns]"
      ]
     },
     "execution_count": 42,
     "metadata": {},
     "output_type": "execute_result"
    }
   ],
   "source": [
    "df[[\"answer_tokenizado\",\"sentimiento\"]]"
   ]
  },
  {
   "cell_type": "markdown",
   "id": "8b47ee94",
   "metadata": {},
   "source": [
    "Observemos como se clasifican los comentarios de 1 a 5, recordando que 1 es muy negativo y 5 muy positivo"
   ]
  },
  {
   "cell_type": "code",
   "execution_count": 48,
   "id": "31443909",
   "metadata": {},
   "outputs": [
    {
     "data": {
      "text/plain": [
       "<Axes: xlabel='sentimiento', ylabel='count'>"
      ]
     },
     "execution_count": 48,
     "metadata": {},
     "output_type": "execute_result"
    },
    {
     "data": {
      "image/png": "[encoded data removed]",
      "text/plain": [
       "<Figure size 640x480 with 1 Axes>"
      ]
     },
     "metadata": {},
     "output_type": "display_data"
    }
   ],
   "source": [
    "counts = df['sentimiento'].value_counts()\n",
    "\n",
    "# Luego, convertimos el índice a una lista ordenada en orden descendente\n",
    "order = counts.index.tolist()\n",
    "\n",
    "# Finalmente, pasamos esa lista al argumento 'order' de sns.countplot\n",
    "sns.countplot(data=df, x='sentimiento', order=order)"
   ]
  },
  {
   "cell_type": "markdown",
   "id": "ecc0ac3d",
   "metadata": {},
   "source": [
    "Tal parece que la mayoria de los comentarios de los clientes son positivos.\n",
    "\n",
    "Organicemos el formato de la fecha:"
   ]
  },
  {
   "cell_type": "code",
   "execution_count": 55,
   "id": "4002aecf",
   "metadata": {},
   "outputs": [],
   "source": [
    "df[\"assigned_at\"] = pd.to_datetime(df[\"assigned_at\"], format='%Y-%m-%d %H:%M:%S.%f')"
   ]
  },
  {
   "cell_type": "code",
   "execution_count": 58,
   "id": "046c4512",
   "metadata": {},
   "outputs": [
    {
     "data": {
      "text/plain": [
       "Timestamp('2022-01-02 11:45:56.643000')"
      ]
     },
     "execution_count": 58,
     "metadata": {},
     "output_type": "execute_result"
    }
   ],
   "source": [
    "# FECHA MÁS ANTIGUA\n",
    "df[\"assigned_at\"].min()"
   ]
  },
  {
   "cell_type": "code",
   "execution_count": 60,
   "id": "7922ff3b",
   "metadata": {},
   "outputs": [
    {
     "data": {
      "text/plain": [
       "Timestamp('2024-05-06 15:10:16.196572')"
      ]
     },
     "execution_count": 60,
     "metadata": {},
     "output_type": "execute_result"
    }
   ],
   "source": [
    "# FECHA MÁS RECIENTE\n",
    "df[\"assigned_at\"].max()"
   ]
  },
  {
   "cell_type": "markdown",
   "id": "4fc1f620",
   "metadata": {},
   "source": [
    "Tenemos comentarios desde principios del 2022 hasta el mes pasado"
   ]
  },
  {
   "cell_type": "code",
   "execution_count": 62,
   "id": "e08fa78a",
   "metadata": {},
   "outputs": [],
   "source": [
    "df[\"Puntaje\"] = df[\"sentimiento\"].apply(lambda x: int(x[0]))"
   ]
  },
  {
   "cell_type": "code",
   "execution_count": 76,
   "id": "19bd1376",
   "metadata": {},
   "outputs": [],
   "source": [
    "df['fecha_sin_tiempo'] = df['assigned_at'].dt.date\n",
    "df['fecha_sin_tiempo'] = df['fecha_sin_tiempo'].apply(lambda x: x.strftime('%Y-%m'))"
   ]
  },
  {
   "cell_type": "code",
   "execution_count": 79,
   "id": "7437f48b",
   "metadata": {},
   "outputs": [
    {
     "data": {
      "image/png": "[encoded data removed]",
      "text/plain": [
       "<Figure size 640x480 with 1 Axes>"
      ]
     },
     "metadata": {},
     "output_type": "display_data"
    }
   ],
   "source": [
    "df.groupby('fecha_sin_tiempo')['Puntaje'].mean().reset_index().pipe(\n",
    "    (sns.lineplot, 'data'), x='fecha_sin_tiempo', y='Puntaje'\n",
    "                                                                    )\n",
    "plt.xticks(rotation=70)\n",
    "\n",
    "# Mostrar el gráfico\n",
    "plt.show()"
   ]
  },
  {
   "cell_type": "markdown",
   "id": "524fa860",
   "metadata": {},
   "source": [
    " nota algunos valles importantes en este indicador, por ejemplo uno entre marzo de 2023 y julio de 2023, y otro entre finales del 2023 y comienzo del 2024."
   ]
  },
  {
   "cell_type": "markdown",
   "id": "54b35f1d",
   "metadata": {},
   "source": [
    "# Problemas comunes y áreas de mejoras:\n",
    "\n",
    "Para ello voy a tomar los comentarios más negativos y buscaré los temas y palabras más frecuentes en los comentarios para identificar oportunidades de mejoras en el servicio y así beneficiar el negocio."
   ]
  },
  {
   "cell_type": "code",
   "execution_count": 146,
   "id": "1bf95b13",
   "metadata": {},
   "outputs": [],
   "source": [
    "df_neg = df[(df['sentimiento'] == '1 stars') | (df['sentimiento'] == '2 stars')]"
   ]
  },
  {
   "cell_type": "code",
   "execution_count": 147,
   "id": "3bd884d5",
   "metadata": {},
   "outputs": [],
   "source": [
    "# Contar palabras más frecuentes\n",
    "todas_palabras = ' '.join(df_neg['answer_tokenizado']).split()\n",
    "contador_palabras = Counter(todas_palabras)"
   ]
  },
  {
   "cell_type": "markdown",
   "id": "440e863e",
   "metadata": {},
   "source": [
    "#### Top 20 de palabras más usadas en comentarios que se consideran como negativos:"
   ]
  },
  {
   "cell_type": "code",
   "execution_count": 148,
   "id": "19e98f11",
   "metadata": {},
   "outputs": [
    {
     "data": {
      "text/plain": [
       "[('variedad', 47),\n",
       " ('falta', 44),\n",
       " ('ropa', 43),\n",
       " ('tallas', 40),\n",
       " ('poca', 32),\n",
       " ('mas', 26),\n",
       " ('prendas', 26),\n",
       " ('precios', 25),\n",
       " ('atención', 24),\n",
       " ('deberían', 23),\n",
       " ('talla', 18),\n",
       " ('niño', 16),\n",
       " ('productos', 15),\n",
       " ('tienda', 15),\n",
       " ('diseños', 15),\n",
       " ('surtido', 13),\n",
       " ('demasiado', 13),\n",
       " ('tener', 12),\n",
       " ('descuentos', 12),\n",
       " ('calidad', 12)]"
      ]
     },
     "execution_count": 148,
     "metadata": {},
     "output_type": "execute_result"
    }
   ],
   "source": [
    "contador_palabras.most_common(20)"
   ]
  },
  {
   "cell_type": "markdown",
   "id": "b9d99b2d",
   "metadata": {},
   "source": [
    "Llama la atención que de las palabras más usadas en este tipo de comentarios son atención, talla, falta, poca, variedad, servicio, atención y surtido, con esto se puede inferir algunas áreas de mejoras.\n",
    "- La atención al cliente y servicio: es importante, ya que ellos son el activo más valioso, por ende es algo se recomienda mejorar en estos ítems.\n",
    "- Talla y variedad: Estas las pongo juntas, ya que si un cliente no está satisfecho con una talla deberíamos tener algo de variedad, también si el cliente busca algo en específico deberías tratar en lo posible de disponer una gama de opciones para que los clientes estén satisfechos."
   ]
  },
  {
   "cell_type": "markdown",
   "id": "877cfcc8",
   "metadata": {},
   "source": [
    "##### Extracción de temas de los comentarios utilizando la técnica de Factorización de Matrices No Negativas (NMF) en combinación con la vectorización TF-IDF\n",
    "\n",
    "TfidfVectorizer es inicializado con algunos parámetros:  \n",
    "- max_df: Elimina los términos que aparecen en más del 95% de los documentos. Este parámetro ayuda a eliminar palabras demasiado comunes que no son informativas.  \n",
    "- min_df: Elimina los términos que aparecen en menos de 2 documentos. Este parámetro ayuda a eliminar palabras demasiado raras que pueden ser ruido.  \n",
    "- stop_words: Se utilizan para eliminar palabras comunes que no aportan mucho significado al análisis. \n",
    " \n",
    "NMF es inicializado con algunos parámetros\n",
    "- n_components: Especifica el número de temas que se desean extraer de los comentarios, en este caso, se han especificado 5 temas.  \n",
    "- random_state: Controla la aleatoriedad del algoritmo. Establecer un valor fijo \n"
   ]
  },
  {
   "cell_type": "code",
   "execution_count": 115,
   "id": "e0fa6da3-3315-4e9f-b176-55625c2d2543",
   "metadata": {},
   "outputs": [
    {
     "name": "stdout",
     "output_type": "stream",
     "text": [
      "Tema 0:\n",
      "ninguno ahora particular asesores hoy mejor preferencial pagar diciembre tipo\n",
      "Tema 1:\n",
      "atención mala pésima cliente personal tienda cajera falta parte atiende\n",
      "Tema 2:\n",
      "falta variedad tallas surtido poca niño niños productos grandes mas\n",
      "Tema 3:\n",
      "ropa linda meses toda mas calidad niños offcorss niño compre\n",
      "Tema 4:\n",
      "tienda deberían promociones solo descuento hacer talla prendas precios si\n"
     ]
    }
   ],
   "source": [
    "stop_words_2 = stopwords.words('spanish')\n",
    "\n",
    "# Vectorización TF-IDF\n",
    "tfidf_vectorizer = TfidfVectorizer(max_df=0.95, min_df=2, stop_words=stop_words_2)\n",
    "tfidf = tfidf_vectorizer.fit_transform(df_neg['answer_tokenizado'])\n",
    "\n",
    "# Ajustar el modelo NMF\n",
    "nmf_model = NMF(n_components=5, random_state=42)\n",
    "nmf_model.fit(tfidf)\n",
    "\n",
    "# Mostrar los temas\n",
    "def mostrar_temas(modelo, vectorizador, n_top_palabras):\n",
    "    palabras = vectorizador.get_feature_names_out()\n",
    "    for i, tema in enumerate(modelo.components_):\n",
    "        print(f\"Tema {i}:\")\n",
    "        print(\" \".join([palabras[i] for i in tema.argsort()[:-n_top_palabras - 1:-1]]))\n",
    "\n",
    "mostrar_temas(nmf_model, tfidf_vectorizer, 10)"
   ]
  },
  {
   "cell_type": "markdown",
   "id": "d12ab788",
   "metadata": {},
   "source": [
    "Como podemos ver y confirmar algunas oportunidades de mejoras como lo dijimos anteriormente:  \n",
    "- Mejorar la atención al cliente de parte del personal que atiende\n",
    "- Variedad en las tallas y productos\n",
    "- Pareciera que también se piden los clientes piden hacer uso de promociones"
   ]
  },
  {
   "cell_type": "markdown",
   "id": "9cbd47ab",
   "metadata": {},
   "source": [
    "# Características elogiadas\n",
    "\n",
    "Ahora analizaremos los comentarios positivos para identificar las características más elogiadas por los clientes."
   ]
  },
  {
   "cell_type": "code",
   "execution_count": 151,
   "id": "194e1b7e",
   "metadata": {},
   "outputs": [],
   "source": [
    "df_pos = df[(df['sentimiento'] == '5 stars') | (df['sentimiento'] == '4 stars')]\n",
    "df_pos = df_pos[~df_pos['answer_tokenizado'].isnull()]\n",
    "\n",
    "# Contar palabras más frecuentes\n",
    "todas_palabras_pos = ' '.join(df_pos['answer_tokenizado']).split()\n",
    "contador_palabras_pos = Counter(todas_palabras_pos)"
   ]
  },
  {
   "cell_type": "markdown",
   "id": "311b481e",
   "metadata": {},
   "source": [
    "#### Top 20 de palabras más usadas en comentarios que se consideran como positivas:"
   ]
  },
  {
   "cell_type": "code",
   "execution_count": 153,
   "id": "deaff0f4",
   "metadata": {},
   "outputs": [
    {
     "data": {
      "text/plain": [
       "[('excelente', 2032),\n",
       " ('atención', 1429),\n",
       " ('calidad', 1144),\n",
       " ('buena', 1137),\n",
       " ('gracias', 903),\n",
       " ('ropa', 792),\n",
       " ('servicio', 756),\n",
       " ('marca', 577),\n",
       " ('encanta', 548),\n",
       " ('productos', 544),\n",
       " ('tienda', 464),\n",
       " ('prendas', 418),\n",
       " ('gusta', 298),\n",
       " ('siempre', 291),\n",
       " ('buen', 290),\n",
       " ('bien', 243),\n",
       " ('exelente', 236),\n",
       " ('buenos', 230),\n",
       " ('excelentes', 225),\n",
       " ('precios', 214)]"
      ]
     },
     "execution_count": 153,
     "metadata": {},
     "output_type": "execute_result"
    }
   ],
   "source": [
    "contador_palabras_pos.most_common(20)"
   ]
  },
  {
   "cell_type": "code",
   "execution_count": 154,
   "metadata": {},
   "outputs": [
    {
     "name": "stdout",
     "output_type": "stream",
     "text": [
      "Tema 0:\n",
      "excelente atención calidad servicio tienda marca atencion producto felicitaciones muchas\n",
      "Tema 1:\n",
      "atención buena cliente atencion tienda personal parte exelente felicitaciones precios\n",
      "Tema 2:\n",
      "gracias muchas atención bien mil existir promociones offcorss siempre excelentes\n",
      "Tema 3:\n",
      "calidad ropa encanta marca buena productos prendas gusta excelentes buenos\n",
      "Tema 4:\n",
      "servicio buen exelente cliente bien productos bueno felicitaciones producto surtido\n"
     ]
    }
   ],
   "source": [
    "# Vectorización TF-IDF\n",
    "tfidf_vectorizer = TfidfVectorizer(max_df=0.95, min_df=2, stop_words=stop_words_2)\n",
    "tfidf = tfidf_vectorizer.fit_transform(df_pos['answer_tokenizado'])\n",
    "\n",
    "# Ajustar el modelo NMF\n",
    "nmf_model = NMF(n_components=5, random_state=42)\n",
    "nmf_model.fit(tfidf)\n",
    "\n",
    "# Mostrar los temas\n",
    "def mostrar_temas(modelo, vectorizador, n_top_palabras):\n",
    "    palabras = vectorizador.get_feature_names_out()\n",
    "    for i, tema in enumerate(modelo.components_):\n",
    "        print(f\"Tema {i}:\")\n",
    "        print(\" \".join([palabras[i] for i in tema.argsort()[:-n_top_palabras - 1:-1]]))\n",
    "\n",
    "mostrar_temas(nmf_model, tfidf_vectorizer, 10)"
   ]
  },
  {
   "cell_type": "markdown",
   "id": "ba6534e6",
   "metadata": {},
   "source": [
    "#### Características elogiadas:\n",
    "- La atención al cliente y calidad del servicio\n",
    "- Buenas promociones\n",
    "- La calidad de los productos "
   ]
  },
  {
   "cell_type": "markdown",
   "id": "4a731937",
   "metadata": {},
   "source": [
    "# Conclusiones:\n",
    "\n",
    "Este análisis permitió observar como ven los clientes a la empresa, sus opiniones tanto negativas como positivas, lo que nos mostró algunas características y oportunidades de mejora, como también algunos problemas comunes y áreas de mejora, este es un resumen de lo anterior dicho\n",
    "\n",
    "- En general las personas y los clientes se llevan una buena imagen de Offcorss, esto se ve que son mucho más la proposición de comentarios buenos\n",
    "- Hay algunas oportunidades de mejora en la variabilidad de los productos y tallas a ofrecer\n",
    "- Los clientes resaltan la calidad de los productos y general quedan satisfechos\n",
    "- A gusto con las promociones"
   ]
  },
  {
   "cell_type": "markdown",
   "id": "06293797",
   "metadata": {},
   "source": [
    "##### Muchas gracias"
   ]
  }
 ],
 "metadata": {
  "kernelspec": {
   "display_name": "Python 3 (ipykernel)",
   "language": "python",
   "name": "python3"
  },
  "language_info": {
   "codemirror_mode": {
    "name": "ipython",
    "version": 3
   },
   "file_extension": ".py",
   "mimetype": "text/x-python",
   "name": "python",
   "nbconvert_exporter": "python",
   "pygments_lexer": "ipython3",
   "version": "3.12.3"
  }
 },
 "nbformat": 4,
 "nbformat_minor": 5
}
